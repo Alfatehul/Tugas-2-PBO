{
  "nbformat": 4,
  "nbformat_minor": 0,
  "metadata": {
    "colab": {
      "provenance": []
    },
    "kernelspec": {
      "name": "python3",
      "display_name": "Python 3"
    },
    "language_info": {
      "name": "python"
    }
  },
  "cells": [
    {
      "cell_type": "code",
      "execution_count": 1,
      "metadata": {
        "colab": {
          "base_uri": "https://localhost:8080/"
        },
        "id": "6QeoSkk_iO99",
        "outputId": "20a273b6-5a6f-4ee5-c493-18690fbc26e2"
      },
      "outputs": [
        {
          "output_type": "stream",
          "name": "stdout",
          "text": [
            "Luas lingkaran: 153.94\n"
          ]
        }
      ],
      "source": [
        "import math\n",
        "\n",
        "class Lingkaran:\n",
        "    def __init__(self, radius):\n",
        "        self.radius = radius\n",
        "\n",
        "    def hitung_luas(self):\n",
        "        return math.pi * self.radius ** 2\n",
        "\n",
        "# Objek\n",
        "blt = Lingkaran(7)\n",
        "print(f\"Luas lingkaran: {blt.hitung_luas():.2f}\")\n"
      ]
    }
  ]
}