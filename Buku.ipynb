{
  "nbformat": 4,
  "nbformat_minor": 0,
  "metadata": {
    "colab": {
      "provenance": []
    },
    "kernelspec": {
      "name": "python3",
      "display_name": "Python 3"
    },
    "language_info": {
      "name": "python"
    }
  },
  "cells": [
    {
      "cell_type": "code",
      "execution_count": null,
      "metadata": {
        "id": "lWdsNVcnjXfr"
      },
      "outputs": [],
      "source": [
        "class Buku:\n",
        "    def __init__(self, judul, penulis):\n",
        "        self.judul = judul\n",
        "        self.penulis = penulis\n",
        "\n",
        "    def info(self):\n",
        "        print(f\"Buku berjudul '{self.judul}' ditulis oleh {self.penulis}.\")\n",
        "\n",
        "# Objek\n",
        "bk = Buku(\"Atomic Habits\", \"James Clear\")\n",
        "bk.info()\n"
      ]
    }
  ]
}