{
  "nbformat": 4,
  "nbformat_minor": 0,
  "metadata": {
    "colab": {
      "provenance": []
    },
    "kernelspec": {
      "name": "python3",
      "display_name": "Python 3"
    },
    "language_info": {
      "name": "python"
    }
  },
  "cells": [
    {
      "cell_type": "code",
      "execution_count": null,
      "metadata": {
        "id": "NLijfK2Yi6as"
      },
      "outputs": [],
      "source": [
        "class Pegawai:\n",
        "    def __init__(self, nama, jabatan):\n",
        "        self.nama = nama\n",
        "        self.jabatan = jabatan\n",
        "\n",
        "    def tampilkan_info(self):\n",
        "        print(f\"Pegawai {self.nama} memiliki jabatan sebagai {self.jabatan}.\")\n",
        "\n",
        "# Objek\n",
        "pgw = Pegawai(\"Andi\", \"Manager\")\n",
        "pgw.tampilkan_info()\n"
      ]
    }
  ]
}