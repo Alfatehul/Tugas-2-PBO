{
  "nbformat": 4,
  "nbformat_minor": 0,
  "metadata": {
    "colab": {
      "provenance": []
    },
    "kernelspec": {
      "name": "python3",
      "display_name": "Python 3"
    },
    "language_info": {
      "name": "python"
    }
  },
  "cells": [
    {
      "cell_type": "code",
      "execution_count": null,
      "metadata": {
        "id": "Vhb4bfQ_jJBj"
      },
      "outputs": [],
      "source": [
        "class Pesawat:\n",
        "    def __init__(self, maskapai, kapasitas):\n",
        "        self.maskapai = maskapai\n",
        "        self.kapasitas = kapasitas\n",
        "\n",
        "    def terbang(self):\n",
        "        print(f\"Pesawat {self.maskapai} dengan kapasitas {self.kapasitas} penumpang sedang terbang.\")\n",
        "\n",
        "# Objek\n",
        "psw = Pesawat(\"Garuda Indonesia\", 180)\n",
        "psw.terbang()\n"
      ]
    }
  ]
}