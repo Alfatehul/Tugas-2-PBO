{
  "nbformat": 4,
  "nbformat_minor": 0,
  "metadata": {
    "colab": {
      "provenance": []
    },
    "kernelspec": {
      "name": "python3",
      "display_name": "Python 3"
    },
    "language_info": {
      "name": "python"
    }
  },
  "cells": [
    {
      "cell_type": "code",
      "execution_count": null,
      "metadata": {
        "id": "lZqfz3ELg8Gf"
      },
      "outputs": [],
      "source": []
    },
    {
      "cell_type": "code",
      "source": [
        "class Mahasiswa:\n",
        "    def __init__(self, nama, nim):\n",
        "        self.nama = nama\n",
        "        self.nim = nim\n",
        "\n",
        "    def cetak_krs(self):\n",
        "        print(f\"Mahasiswa {self.nama} dengan NIM {self.nim} telah mencetak KRS.\")\n",
        "\n",
        "# Objek\n",
        "mhs = Mahasiswa(\"Budi\", \"2203410023\")\n",
        "mhs.cetak_krs()\n"
      ],
      "metadata": {
        "colab": {
          "base_uri": "https://localhost:8080/"
        },
        "id": "Vu-Pqvqch9M3",
        "outputId": "77d80a61-2fcf-4647-fb33-9710ad93b191"
      },
      "execution_count": 1,
      "outputs": [
        {
          "output_type": "stream",
          "name": "stdout",
          "text": [
            "Mahasiswa Budi dengan NIM 2203410023 telah mencetak KRS.\n"
          ]
        }
      ]
    }
  ]
}